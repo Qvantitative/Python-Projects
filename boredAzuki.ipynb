{
 "cells": [
  {
   "cell_type": "code",
   "execution_count": 1,
   "id": "0057333a",
   "metadata": {},
   "outputs": [],
   "source": [
    "#Import Library\n",
    "from web3 import Web3\n",
    "import pandas as pd\n",
    "import json\n",
    "import time\n",
    "from ens import ENS\n",
    "\n",
    "start_time = time.time()\n",
    "\n",
    "i=1\n",
    "\n",
    "addressesGrillz = []\n",
    "addressesAzuki = []\n",
    "addressesBAYC = []\n",
    "ensAzuki =[]\n",
    "ensBAYC = []\n",
    "\n",
    "#Connect to INFURA HTTP End Point\n",
    "infura_url='https://mainnet.infura.io/v3/25a5624883354bdeaf467ca41cf912de' #your uri\n",
    "w3 = Web3(Web3.HTTPProvider(infura_url))\n",
    "\n",
    "#Check Connection\n",
    "w3.isConnected()\n",
    "\n",
    "ns = ENS.fromWeb3(w3)\n",
    "#abiBAYC=\"http://api.etherscan.io/api?module=contract&action=getabi&address=0xbc4ca0eda7647a8ab7c2061c2e118a18a936f13d&format=raw\"\n",
    "#abiBAYC = requests.get(abiBAYC).json()\n",
    "\n",
    "with open('C:/Users/miked/OneDrive/Desktop/scraper/contracts/azuki.json') as json_file:\n",
    "    dataAzuki = json.load(json_file)\n",
    "\n",
    "with open('C:/Users/miked/OneDrive/Desktop/scraper/contracts/BAYC.json') as json_file:\n",
    "    dataBAYC = json.load(json_file)\n",
    "\n",
    "addressAzuki = \"0xed5af388653567af2f388e6224dc7c4b3241c544\"\n",
    "addressBAYC = \"0xbc4ca0eda7647a8ab7c2061c2e118a18a936f13d\"\n",
    "\n",
    "addressAzuki = Web3.toChecksumAddress(addressAzuki)\n",
    "addressBAYC = Web3.toChecksumAddress(addressBAYC)\n",
    "\n",
    "contractAzuki = w3.eth.contract(address=addressAzuki, abi=dataAzuki)\n",
    "contractBAYC = w3.eth.contract(address=addressBAYC, abi=dataBAYC)\n",
    "\n",
    "while i != 10000:\n",
    "    try:\n",
    "        ownerAzuki = contractAzuki.functions.ownerOf(i).call()\n",
    "        ownerBAYC = contractBAYC.functions.ownerOf(i).call()\n",
    "    except:\n",
    "        pass\n",
    "    \n",
    "    i = i + 1\n",
    "    \n",
    "    ensAzuki.append(ns.name(ownerAzuki))\n",
    "    ensBAYC.append(ns.name(ownerBAYC))\n",
    "    addressesAzuki.append(ownerAzuki)\n",
    "    addressesBAYC.append(ownerBAYC)"
   ]
  },
  {
   "cell_type": "code",
   "execution_count": 2,
   "id": "4c0829ad",
   "metadata": {},
   "outputs": [
    {
     "name": "stdout",
     "output_type": "stream",
     "text": [
      "     Address Count\n",
      "0     zagabond.eth\n",
      "1             None\n",
      "2     steamboy.eth\n",
      "3             None\n",
      "4             None\n",
      "...            ...\n",
      "9994          None\n",
      "9995          None\n",
      "9996          None\n",
      "9997          None\n",
      "9998   firstid.eth\n",
      "\n",
      "[9999 rows x 1 columns]\n"
     ]
    }
   ],
   "source": [
    "a = pd.DataFrame({'Address Count': ensAzuki})\n",
    "b = pd.DataFrame({'Address Count': ensBAYC})\n",
    "\n",
    "print(a)"
   ]
  },
  {
   "cell_type": "code",
   "execution_count": 3,
   "id": "1e14de89",
   "metadata": {},
   "outputs": [
    {
     "name": "stdout",
     "output_type": "stream",
     "text": [
      "     Address Count\n",
      "0             None\n",
      "1             None\n",
      "2        garga.eth\n",
      "3       0xwave.eth\n",
      "4             None\n",
      "...            ...\n",
      "9994          None\n",
      "9995          None\n",
      "9996          None\n",
      "9997    fonzgm.eth\n",
      "9998          None\n",
      "\n",
      "[9999 rows x 1 columns]\n"
     ]
    }
   ],
   "source": [
    "print(b)"
   ]
  },
  {
   "cell_type": "code",
   "execution_count": 4,
   "id": "d46a9ec7",
   "metadata": {},
   "outputs": [
    {
     "name": "stdout",
     "output_type": "stream",
     "text": [
      "                                   Address Count\n",
      "0     0x29EA412CC10A9cfC08c2298f382b2Fe01e6CA83b\n",
      "1     0xd45058Bf25BBD8F586124C479D384c8C708CE23A\n",
      "2     0x645d2B4bfB047566ff60e2E7112373885935EAc4\n",
      "3     0xd45058Bf25BBD8F586124C479D384c8C708CE23A\n",
      "4     0x355671Aa122887C1b349A84EE79805E22E62F4F9\n",
      "...                                          ...\n",
      "9994  0x6c7fF3fd409318489df461D7a1377B628af7c688\n",
      "9995  0xd09e0C214F1c0EC058a49444139fDc3cC27b18d2\n",
      "9996  0x6A562e85839c214c7714b7B1C471C5Fb3B99071D\n",
      "9997  0xC3c1d667DD87B10e1F2D306E8Ae8E30Fa86Fb7ea\n",
      "9998  0x218d04E0Abf0E23cf68Dac840EdC492DCA214F69\n",
      "\n",
      "[9999 rows x 1 columns]\n"
     ]
    }
   ],
   "source": [
    "aa = pd.DataFrame({'Address Count': addressesAzuki})\n",
    "bb = pd.DataFrame({'Address Count': addressesBAYC})\n",
    "\n",
    "print(aa)"
   ]
  },
  {
   "cell_type": "code",
   "execution_count": 5,
   "id": "2e08558b",
   "metadata": {},
   "outputs": [
    {
     "name": "stdout",
     "output_type": "stream",
     "text": [
      "                                   Address Count\n",
      "0     0x46EFbAedc92067E6d60E84ED6395099723252496\n",
      "1     0xc5c7b46843014B1591e9aF24de797156cde67f08\n",
      "2     0x03546b22bC80b3e6b64c4445963D981250267a68\n",
      "3     0x33569c101562e1fAF5b24581057E5cEE4c8288D7\n",
      "4     0xfC695d9b7BED4325E0845b71066B2fbB0eb2D6EF\n",
      "...                                          ...\n",
      "9994  0x56E094616618E5275E04CA9339E0Df1c2Aa77Cf4\n",
      "9995  0x4347fA8364f2E4db102679BcE37571Ee9166550A\n",
      "9996  0x2e7444aDe51B2dbc723c6298679baC3EF8389c31\n",
      "9997  0x30145D714Db337606c8f520bee9a3e3eAC910636\n",
      "9998  0x46Fd6B647Dc8C82aD8f6cf0CC6b22ACad3f6e39d\n",
      "\n",
      "[9999 rows x 1 columns]\n"
     ]
    }
   ],
   "source": [
    "print(bb)"
   ]
  },
  {
   "cell_type": "code",
   "execution_count": 6,
   "id": "7af011ba",
   "metadata": {},
   "outputs": [
    {
     "name": "stdout",
     "output_type": "stream",
     "text": [
      "                                    Address Count\n",
      "0      0xff3879B8A363AeD92A6EABa8f61f1A96a9EC3c1e\n",
      "1      0xff3879B8A363AeD92A6EABa8f61f1A96a9EC3c1e\n",
      "2      0xff3879B8A363AeD92A6EABa8f61f1A96a9EC3c1e\n",
      "3      0xff3879B8A363AeD92A6EABa8f61f1A96a9EC3c1e\n",
      "4      0xff3879B8A363AeD92A6EABa8f61f1A96a9EC3c1e\n",
      "...                                           ...\n",
      "12094  0xBba5b5a12375DAe4b6fc293A8203Bfec4Ca6476C\n",
      "12095  0xc4CCa7049fba013313F57E0139b954913D541ad2\n",
      "12096  0x0Fd3e2c50EE69fd59E3Ad545Fc07587ADB6fB39E\n",
      "12097  0x0Fd3e2c50EE69fd59E3Ad545Fc07587ADB6fB39E\n",
      "12098  0x8E57BF9684EF2c36fD01E8C67E34e94596bFb42b\n",
      "\n",
      "[12099 rows x 1 columns]\n"
     ]
    }
   ],
   "source": [
    "c = aa.merge(bb, on=['Address Count'])\n",
    "\n",
    "print(c)"
   ]
  },
  {
   "cell_type": "code",
   "execution_count": 7,
   "id": "cc581d99",
   "metadata": {},
   "outputs": [
    {
     "name": "stdout",
     "output_type": "stream",
     "text": [
      "                                   Address Count\n",
      "0                                   zagabond.eth\n",
      "1     0xd45058Bf25BBD8F586124C479D384c8C708CE23A\n",
      "2                                   steamboy.eth\n",
      "3     0xd45058Bf25BBD8F586124C479D384c8C708CE23A\n",
      "4     0x355671Aa122887C1b349A84EE79805E22E62F4F9\n",
      "...                                          ...\n",
      "9994  0x6c7fF3fd409318489df461D7a1377B628af7c688\n",
      "9995  0xd09e0C214F1c0EC058a49444139fDc3cC27b18d2\n",
      "9996  0x6A562e85839c214c7714b7B1C471C5Fb3B99071D\n",
      "9997  0xC3c1d667DD87B10e1F2D306E8Ae8E30Fa86Fb7ea\n",
      "9998                                 firstid.eth\n",
      "\n",
      "[9999 rows x 1 columns]\n"
     ]
    }
   ],
   "source": [
    "aaa = a.combine_first(aa)\n",
    "bbb = b.combine_first(bb)\n",
    "\n",
    "print(aaa)"
   ]
  },
  {
   "cell_type": "code",
   "execution_count": 8,
   "id": "889a0b23",
   "metadata": {},
   "outputs": [
    {
     "name": "stdout",
     "output_type": "stream",
     "text": [
      "                                   Address Count\n",
      "0     0x46EFbAedc92067E6d60E84ED6395099723252496\n",
      "1     0xc5c7b46843014B1591e9aF24de797156cde67f08\n",
      "2                                      garga.eth\n",
      "3                                     0xwave.eth\n",
      "4     0xfC695d9b7BED4325E0845b71066B2fbB0eb2D6EF\n",
      "...                                          ...\n",
      "9994  0x56E094616618E5275E04CA9339E0Df1c2Aa77Cf4\n",
      "9995  0x4347fA8364f2E4db102679BcE37571Ee9166550A\n",
      "9996  0x2e7444aDe51B2dbc723c6298679baC3EF8389c31\n",
      "9997                                  fonzgm.eth\n",
      "9998  0x46Fd6B647Dc8C82aD8f6cf0CC6b22ACad3f6e39d\n",
      "\n",
      "[9999 rows x 1 columns]\n"
     ]
    }
   ],
   "source": [
    "print(bbb)"
   ]
  },
  {
   "cell_type": "code",
   "execution_count": 9,
   "id": "2a420f6d",
   "metadata": {},
   "outputs": [
    {
     "name": "stdout",
     "output_type": "stream",
     "text": [
      "                                    Address Count\n",
      "0                                   beanwhale.eth\n",
      "1                                   beanwhale.eth\n",
      "2                                   beanwhale.eth\n",
      "3                                   beanwhale.eth\n",
      "4                                   beanwhale.eth\n",
      "...                                           ...\n",
      "12094  0xBba5b5a12375DAe4b6fc293A8203Bfec4Ca6476C\n",
      "12095                               smilejack.eth\n",
      "12096                                 keklord.eth\n",
      "12097                                 keklord.eth\n",
      "12098  0x8E57BF9684EF2c36fD01E8C67E34e94596bFb42b\n",
      "\n",
      "[12099 rows x 1 columns]\n"
     ]
    }
   ],
   "source": [
    "cc = aaa.merge(bbb, on=['Address Count'])\n",
    "\n",
    "print(cc)"
   ]
  },
  {
   "cell_type": "code",
   "execution_count": 10,
   "id": "ae2b3ca6",
   "metadata": {},
   "outputs": [
    {
     "name": "stdout",
     "output_type": "stream",
     "text": [
      "beanwhale.eth                                 181\n",
      "azuki.benddao.eth                             170\n",
      "0xd45058Bf25BBD8F586124C479D384c8C708CE23A    137\n",
      "shiruko.eth                                   104\n",
      "lastknight.eth                                101\n",
      "                                             ... \n",
      "0x1206C3bd74839fCbd9d40750c2Ac70736E34dAF8      1\n",
      "penanglang.eth                                  1\n",
      "0x5cA76D95FD3E1ec2c9D35a2570DA66c5903A533a      1\n",
      "0x6DE12Bf5F81bcc36BFB8cAAdA2e0773EDb3e78D3      1\n",
      "0xC3c1d667DD87B10e1F2D306E8Ae8E30Fa86Fb7ea      1\n",
      "Name: Address Count, Length: 5086, dtype: int64\n"
     ]
    }
   ],
   "source": [
    "value_counts1 = aaa['Address Count'].value_counts()\n",
    "value_counts2 = bbb['Address Count'].value_counts()\n",
    "value_counts3 = cc['Address Count'].value_counts()\n",
    "\n",
    "print(value_counts1)"
   ]
  },
  {
   "cell_type": "code",
   "execution_count": 11,
   "id": "8dd57aa5",
   "metadata": {},
   "outputs": [
    {
     "name": "stdout",
     "output_type": "stream",
     "text": [
      "bayc.benddao.eth                              261\n",
      "jrnyclub.eth                                  107\n",
      "dingaling.eth                                 105\n",
      "canaryvault.eth                                71\n",
      "0x98E711f31E49C2e50C1A290b6F2b1e493E43EA76     71\n",
      "                                             ... \n",
      "0x06a901b77bA5800421853F7b3113D573b704A6A6      1\n",
      "0x7889fC36a58A4E4778fC9EA33326fc8713AC1cf2      1\n",
      "0xc51825A84EF279F83C6815C2c67Ca6932D107A2E      1\n",
      "ons.eth                                         1\n",
      "fonzgm.eth                                      1\n",
      "Name: Address Count, Length: 6438, dtype: int64\n"
     ]
    }
   ],
   "source": [
    "print(value_counts2)"
   ]
  },
  {
   "cell_type": "code",
   "execution_count": 12,
   "id": "a87e097e",
   "metadata": {},
   "outputs": [
    {
     "name": "stdout",
     "output_type": "stream",
     "text": [
      "dingaling.eth                                 5565\n",
      "beanwhale.eth                                 1810\n",
      "0xf896527c49b44aAb3Cf22aE356Fa3AF8E331F280    1512\n",
      "canaryvault.eth                                639\n",
      "0xDe112B77A1a72c726D8C914c23dCEaA53273c351     352\n",
      "                                              ... \n",
      "0x01de321EbE92e51b1cf0610CfeD109c0877Ff980       1\n",
      "0xC1741f18E6cc27439439B2bF3f58A341234D4BB6       1\n",
      "0x8562Fe5154beD2d70F69D90fEC48BA0B9b45F404       1\n",
      "dhes.eth                                         1\n",
      "0x8E57BF9684EF2c36fD01E8C67E34e94596bFb42b       1\n",
      "Name: Address Count, Length: 463, dtype: int64\n"
     ]
    }
   ],
   "source": [
    "print(value_counts3)"
   ]
  },
  {
   "cell_type": "code",
   "execution_count": 13,
   "id": "e4353575",
   "metadata": {},
   "outputs": [
    {
     "name": "stdout",
     "output_type": "stream",
     "text": [
      "['dingaling.eth', 'beanwhale.eth', '0xf896527c49b44aAb3Cf22aE356Fa3AF8E331F280', 'canaryvault.eth', '0xDe112B77A1a72c726D8C914c23dCEaA53273c351', '0xA8189c566c8b602E23b016DA819c11dAe50160D6', '0xwave.eth', '0x34B14E83D7Da6c6A30c46Bf89ff93b066e139154', '0x3fb160A681806aCC91AED14c284C09A96ebC9dfc', '0x44b51387773ce3581156d9accb27849a204F31DC', 'silentgarden.eth', '0x8Be35CA7f8CF057eF0857276aCc578C0a2E7A027', '0x6B83B6084FA4c4e36D5Af9c100160ed7DCE6A040', 'sina.eth', '0x6b7ada3Fe5CcF3aB10a8E7aE7f4593B88b3BF385', '0x5FC2AC23d28c94d570cfb00813D2Ab8882B4fb54', 'cryptopolitan.eth', '0x8BA68CFe71550EfC8988D81d040473709B7F9218', '0xB7eF760F30d139097bA547bD6f0dfaeCbf148452', 'livioxx.eth', '0x5CB803c31e8f4F895a3AB19d8218646dC63e9Dc2', 'discusfish.eth', 'mian.eth', 'yfimaxi.eth', '0x3AE85D19566C1daCea625B2909E07a6f4b72FfB3', '0x6E404D8eBf475e196E0581Df3B5C1D43478ad40C', '0x703229Ec1005fba3108883b8A094EA206FC1E161', 'zazpowered.eth', '0xEab23c1E3776fAd145e2E3dc56bcf739f6e0a393', 'shrimpwen.eth', 'sliu.eth', 'justmaiko.eth', '0x9DD9C2e13af13D01b303c70a48e41B13bd93c8d6', '0xbeB882685D22edb8d57a6ccC8c275e00B967Fcd1', '0x7b3aFc18936f9d0410002CDc9c4F28d772ca41AF', '0xbCef0C37b295526B666c8303e10D8AcA8Cf17890', '0x624119f7710A36e86Af1E0E0BAA9F04Ad466E097', '🤸🏽\\u200d♂.eth', 'north-korea.eth', '0x5bfF7265f68939907255655e449541a53c643B0d', '0xc602bbe267bb6D68EFBC394E54D7B6Faf0355695', '99th.eth', 'luey.eth', 'sebaudet.eth', '0x196FBE6fe43710D48C248771B06EC57eb49EaFC3', '0x0743882fa09A0c257B18d53dC1B101d3F32a04E5', '0xfffa6Fc6aCc3DBe04B175862376f1c5FF88Cf9C1', 'togekiss.eth', '0xE1BF8839930b173a97Ac29DC33C7774416517811', '0x20786273755caB64CAd8a40D48fA57df1faFD981', 'momscreditcard.eth', 'feld4014.eth', '0x17331428346E388f32013e6bEc0Aba29303857FD', '0xF4e423Ce220e4d9FeDcFebCD755ff9d37dc244B2', '0x1d5e42F1d4C5a4a217f76f474a23b67945c8cedD', 'crypt0jack.eth', '0xc374B767f4A3073B3b21f31B06498ca7268439b3', '0x40247eA51AA03109567EfeB701952408F7760C90', '0x87D3ee8cC75C3916e3B6F56E307AADCD3AFefF68', '0xb4Dd38944d7c01C815c96348E28090ae3CbA87f6', 'excelsior.eth', 'etoro.eth', '0xc0ca66536f15d2d11f418Bf4637d1a7Be681bF3A', 'zeroz.eth', '0x1Dec074B2F4281d9Be5783A961D82F6Ee67efaB7', '0xBfd8cba6a1E10e1Ab4Fa11A0062F4e52e13D260f', '0x129B043520711c7BC94025b09bed6AF74d35a372', '0x1ed3B397504a52Fe86bda23Cf3d4c016D680E8a9', 'dashuo.eth', '0xE6030d4E773888e1DfE4CC31DA6e05bfe53091ac', 'bitcoinpirate.eth', '0x0C2DE53b7f4520AFD3F92ac793943CF90fbCFe13', '0xfBfF1eBff67093A239bC1343aE6a5e3372A14Ac0', '85bro.eth', '1king.eth', '0xd71D40C047a2F1eA5B523dDeAC03A9024d82f618', '0x8E9A5A46928E04912a4A49533Abf09C1c107bfcA', 'shatt-vault.eth', '0x028134db627930C9a355261c83b86e2b40152304', 'zeejenkinz.eth', 'chefpierre.eth', '0x1254958BD5073C6B238E516298f0c48f6f60A78e', 'phua.eth', 'shawnz.eth', 'alisajwani.eth', 'jackparker.eth', 'cypherdao道.eth', '0xBa528b2E785b1e05C64B5C48C009FCA19bF23DF0', '0xDA0Da0Da0Da0a77740bB62c5c9D45423533d0CE2', '0x6491bce963FcAe210b7C843c4829202Dc2479C03', 'sucher.eth', 'onlyjpeg.eth', '0x0759e32943F66A586F40EcB8EbBAB569707768Bf', '0xe0FaBa4256e2cA17442dC54e59c1c3F6EF8c216E', '1606.eth', '0xa72B1bF5731F92101fb6fEf1280039616550F99C', '0xB2e1515Dfe9BdE106299C33529C582e5388D195D', '0x2cDd2b57522B54398C3C1Dd4F663F55C721d8a89', '0x542D891303F5B70bBca0cCBa83811560F45968a4', '0xF51dD21fc5Ead51c10Cb6266628A39027492A65E', '0xb3FD5137AA504Ce9c2636521A74B41daba416837', '0x1141A2881050320C927aA04D293530CD2dB6870B', 'internetartcollective.eth', 'sendrock.eth', '0xcd5ee4ebDFe82b28D604B6C8D229654205824F47', '0xc6400A5584db71e41B0E5dFbdC769b54B91256CD', 'anyfund.eth', '0x7E0f2BEe798859345B38dE3a276Fd4A66479Ba1D', 'slmvault.eth', '0x272Eb12494845075a1c0b13A6F069D8aC1d8ac79', '0x0d3C0feE11011B904711695581167115c2636Dd1', 'boredhodler.eth', '0xbC1934f548417f79ab10138B57716Fbc7C25c177', 'baloubayc.eth', '0xFC30641feF0b93556917bC20F0ea88C44d15D786', '0x4Ce2C4835BDceecEe271BB8839f8871882Ac7570', '0x824B25B219b5De8dC30895D48a71534504a7F95C', 'egomint.eth', 'blindleaf.eth', '0x1AD7CFEa037717Cb8B46b8ea50Be5B5E72C1B814', 'fuckbeeple.eth', 'doomvault.eth', '0x60e2431F9aF6A53C7c23C19A691a733FD3CD1c1e', 'jjlin.eth', '0xC46D5cBf77e854f8FaE1EF979421060f8BA36988', '0x6112083d4BB12dBF64e4850842685aaEfBeAcb10', 'oojjoo.eth', 'kinghill.eth', '0x527Cc4376C51B21F58A8e72DE66666C3B0d2D507', 'z3th.eth', 'icedcoffeee.eth', '0xd499ccc5d212b61fE797fea03c35d5b2f8629002', '0x9C2EcD52e83A5fF9d0c981570A9C6eA044483410', '0x60aA54f3CDb41e2E3684c2FA867f91587aa7D856', '0x05c250120ce07bA6fe361B39ac344148435C25Ca', '0x34cCc716Fa3f6c667dae0E6D9b1e0a9418873b8a', '0x5B301C1cbB663EA5C32ea5d8D45dA0381d1b9D5d', 'sirverlin.eth', 'lowkissed.eth', '0x66Af4d4f0a18E95a804CFC3852ff6F54d8BF2867', 'nanexcool.eth', '0x1BF22a19a8d0B9cdFDd5c0859b5BD72c05F2d6a2', 'kc66.eth', '0xaaf3c82bbD30D08D06fC8d16c4186E8692784DA1', '0x8b6BC52ec3D7F5f2AE212EE68a25C2B9e814C3DE', '0xd7510a925475Cb8377BC8D2A7F1c792022B68DF8', '0xe6ed9A9Ba1719b4f8E33718ed7171bA0a1F70818', '0xF7812480cf924DB2Ba0BF78fec942A57139205a1', '0x881F0EA0049622a240C519062E6ABe75085D68D9', 'tatis.eth', '0x8962FfE9C480026C783F36b501fc6e73ae5B2b0e', '0x36ac95d323c8f19c656e081946944ba35723c2A5', 'sno.eth', '0xe15eC38c4bF80D9d79dC738eeC22136dAFdA0d08', '0xBE7D2b4D72E60533cd75Cf30F7cD04528e744775', 'hiphopcowboy.eth', 'farokh.eth', '0x118B11fAbE82D94FA2c5d119c291B1f2a0D7a4eF', '0x396E0c41A7E55223b8797B6FDB7fAA53504E9D29', '0xfc92267A980Deb6B32C9987A048189F8D86374FA', '0x4BD56f1f449f1e88c106fa3a5dc8a1477a792739', 'aliceice.eth', '0xD47B6c30B3F1ABB1e6Ccd4d1e648579948FbFBe0', 'vault.warrencheng.eth', '0x6Cd2D84298F731fa443061255a9a84a09dbCA769', '0x7cf91c0eF074F4e3fbeEbDa55DDE44ddBd20443E', '0xD099B763fa289F3eB695Cf69fd4102C6bf266E0d', '0x1b336F74B86568dC39796EC58E581831D58BD029', 'njlee.eth', 'vault.mondoggg.eth', '0x8a79d66167A3360e4e453bf32cb5457B6d4c8f1c', 'ilikecats.eth', 'abubu.eth', '0x8ba525B1E98735d24417aE324A9709B2396fA7C8', '0x14A97F78647C4DAEAfF22745D26aaFc540e6449a', '0x658Dd79a72f982BBA6178539e6669c1518A370e4', 'michaelk.eth', '0x2A64355e84EaAdC708CE43995D928A02660f6369', '0x0d5489b63ddE73E1CCb49C594DA88257c60494C3', 'sconeman.eth', '0x750AcAeB9c1d61596694Ea7bfE8458A74147FA45', 'png-capital.eth', '0xD444f2435857EC18BE4D7Ed194A339cd5a9BEb36', '0xe2329896DC82e23F02B7a19C61ed35C24165812d', 'camjordan.eth', '0xE2e98D7B8b56eac7f200a8120aD2bFfCCee36D59', 'nexttimeiwilltakeprofits.eth', 'beijingdou.eth', '0x4D37643f599C6FcB95E289BF1eb0b5050d25068D', '0x4548D498460599286CE29BAf9e6B775C19385227', '0x4887A8A7056Ca3237c3d5EDE917f0dE957e2Cd20', 'samanr.eth', '0x05864A7448918E04B1F8F4d157fd8Be09954B6c6', 'rix.eth', '0xD42ceEB6940a6d3d2830BDc3C8b2EB06C42D17B9', 'vora.eth', '0xac8bC7F417790c13402Fb10822c743f1266bbA8d', '0xefa67D95a695E8C5CB92621F33F72D1979E88E7e', 'keklord.eth', '0xB44B00eDdf1c4669Dd14e502236EA68BbB916161', 'boredrobotvault.eth', '0x21d2D0d92660cBA6C4B439B8E159D14dF6637117', '0xAa905ca8b23D6c134fb1ff6ed5fd5A642eFBd8FD', 'brennen.eth', '0x3397a5092005920c83A89B335117105dA9375446', '0x5C503Df9051B1dbb941f3046cb293C97d7CEf4aD', '0xb5ED351A7Cc4D806Bb1a00A7dD82dC3bA926a901', 'alfietao.eth', '0x529855CFe2e86bf4848F9CB612978188be30C4bA', 'jjjwen.eth', '0xa80cFf1EFF4Ade72B21d5aAbEc6375Bf0F69f073', '0x7807EE65D24A6B845823db1191B0c938Dc984cF4', '0x4A59eF5c8eaC8b43471e3c782996a0d07c554133', 'asm2525.eth', '0x284D711cE4E431EDe3d96a549A25C6bEda953b9A', 'banksfucks.eth', '0x8dbA8ba327f5D36a765B844270Fe8A8Ed25633b5', '0x8bB07635c71268Dc4f3928b023D5692E80C818B6', 'vis.eth', '0x03cD6F145bA9B86566303205a63d3D251F2233Cd', '0x5b2d08539b3317fae2DB93706D709d859c6103D5', '0xb0E66e091E56E3E3b00C8196F2c55971de8cd85D', '0xA887b1F658aaC0ED2A011d5B352ccA49157DCbcC', '0x58D9Db26ce86f7794Cca22FDdc983F70366f3428', '0x6897625C2Da7E985e9c22E0d7B27A960Fc81D1D2', '0x7A3C2954AC417fa87686c2e63F3dE71ff1675daa', 'cipvault.eth', '0x9451F0eF7a6BbBB6466B69cA19b7944D7Bb836fd', '0xC2B39a520d5088aFDa4Fdeac32DbA62516Ed6119', 'nftari.eth', '0xDBf66A7Ae4C2006ab2c548Bea03379d4E5C5c872', 'reeroo.eth', 'ferenyxvault.eth', 'punk4242.eth', '0x904D27d0743Bfcff6f6a39b885d25Cd461c32F9A', 'tonkatough.eth', '0x571C513df562470D5cFf30Fbe947f7Bf46263b95', 'dortvault.eth', '0xA8A384fCDA7B5ea26bC51e9c33AE77cDBc89ca14', '0xdEe8175d692D21d61628B88a11cC6EE868d55D96', '0xEdd88CA63D7C0B9cF182aFDEE3852258F31961f9', '0xCd32895ffbC17085Bf27D9d6411d4d8295ff7786', '0x10A7330415017A71Ba28CD22a5EEc748b280D6CA', 'snkrz93.eth', '0xe1a5288a4752778BE59d23F7e791b8866f6BAF38', '0xbD6907023e8129C6219536C1Bf2e7FB9e0CEd8E1', '0xc3AA606D75Bad4CF846c8bBe12E6AA487D640839', '0x1f7Cc5f5DB829494B974698963654Df26DBBF4d2', 'jackyw.eth', 'thegoodmanlife1.eth', '0x97b805EBa82A4788DecA24c24f58c2283179Ba29', '0xb5417FDB7333Dd18dbc73b20ec84FfF51F425039', '0x8022079117e47Af98312e86069b6Fd87aFBe969e', '0x54585647EdAeA3066D191024e4599B098f8f19E0', 'mmxyz.eth', '0xF4E76B7272831Fe4C4353c79E0F63A81C00651C2', 'yossylondon.eth', '0x7a0DC6d20BB5aD374b11C3f6fD6d39e0998FFcE9', '0xdA44E1c6AdDF1D218cF9633F6E1eDFFE11e41Ea6', 'hot.0xwave.eth', '0x26e437baBD9388F20D00fDC7A45E26a516925f7f', 'nfty00.eth', '0x4683d126f02e6940922D2A42938B73eb96B889Fc', '0x4880FaF3b9950ef0a9389197E65D6573AA1BE977', '0xbA82F512bBef0737D48C4C05B6a65C23DE770046', '0x0E40F328d101147b28719b2cB2A56Fcbf7d05667', 'mrhealthy.eth', '0xC8dDA504356195ba5344E5a9826Ce07DfEaA97b6', '5369vault.eth', '0xd42fab871e708308A178798Edd7EaF63638CE519', '0x9f4A549dD4415968f0279dB9Ae43AFfD7354CFDE', 'spacez.eth', 'rvm.eth', 'vault.d34thst4lker.eth', '0xBba5b5a12375DAe4b6fc293A8203Bfec4Ca6476C', '0xe6C3607d12589AD2d3b010Fc8D3f23A27B2bA93C', '0xc4cAE9E74593011f5d5A7b7eAbD2d2a8c7E3d4ea', 'azeer.eth', '0xE08c139f4c91d8bAeB1d59A557A8F8d14fA5f45d', '0xd4eBD2674E755bd9cbcCAfE780450745C2bd40A4', '0xA045dfB9b742b06160fac011A27F06d854e80f64', '0x28d8809De7150B359310040615cC1DE27e0d155e', '0x196D1D271eEE9b34bd84902923902893C6CeCf79', '0x675e4accf559807EdE5A1A159A8579C7d5344B5e', 'apelom.eth', 'smilejack.eth', 'konachan.eth', '0xf4e5ef21C31c6C7FF6ebbC5701c64B251EeE06d1', '0xf26dc29032475aC6aeBcb95E630F12F69C3e8A90', 'kingcoppy.eth', '0xD8633185E23B3EC01b65Eba96011DCe45b597503', '0x75750D0BbA74ECb961Fa588873A0EF69c54361c1', '0xf67CFd9e009BA5060e07B700A7985fB026d9c449', 'charliehu.eth', '0x7c901D78bA68B5be8368c2305f3b270Bf93C4CED', '0x07ce6B69220E9a075619426244858a5D58B70F8F', '0x2924196a2Ec71ea4AE1B1357381EcCdCEe6C18f2', 'lyden.eth', '0x9D25D81D030458B7fb5CB0e036a0b57AfDC5E455', '0x12f9B53e44b56774d235B6E6f183fDe8a9043065', 'fvckrender.eth', '0x44dd1ed9129B54Bbb802127B8981272e7A553458', '0xD91341F739C2fEAc1e048A995B0d602D92959123', 'juno106.eth', '0xDD79E628B4d93Fc3055FA3775750656e14375064', '0xf7e72b07890362603abAE1F7096063Cc83a3Cc93', '0xa5DEe9B883ea0B6729bd95E707CF7Be315BA44a2', '0x766204Baa84BC7BFb9081B2D932F54EF6d19f26B', '0x30b941418A71565980434CdE8692dbBc1fdB70EB', 'e88vaultx.eth', '0xdeC3537e19AB0F958f00580dE6B1b07A5f6F55f3', 'michaelchristopherbrown.eth', '0x4a231c6F2665Dd3921215F068b5686bA9f46a568', '0xE22be48F6E5c4bDb1578184a33421cd139C31bc4', '土澳大狮兄.eth', 'monkzero.eth', '0xC08f6Dd3776d34d827a458Ee0C39cE36e16f4bDA', 'princesatoshi.eth', '0x77F34B65b2CCA772dec60B10Be9323A2CdBf39f9', '0x21E115242fF2E57c5aAdFdAA58A56D722aA66612', '0xf2e03bB3Bae583D72D750b3EF443372F92CF2C24', '0xA895D36aa41583A51d1604143C420759E7920926', '0x1EfC22A134A410fEd4439c1B11B010dbEb8bD5D3', '0xA2d5BC7404bFd6Bf972215f665B8e792abC688b2', 'capvault.eth', '0x20654e37f79d55EfB6ABabD5B77c52A2f7EeAaC4', '0x0cE2f4C4826A34c0A7e183ef2F49081360fC404C', 'offline.joiito.eth', '0x27DB134012676a0542c667c610920e269AFE89B9', 'dsyk.eth', 'masonrothschild.eth', '0x3f703546E6af3e06D5a1653a352f0a05744d1928', 'tony-vault.eth', 'a7111a.eth', '0x388Ebb5528D2C35934063F51a1EC15935a8921f9', '0x47816D34a6092D6586d6aedeA548ed9D9a87207F', 'boredlarry.eth', '0x54dcC19f12956A0139E8C2A761395747f12C057c', '0x570b4cba2680D33333bB8475dA78ebF646632b12', '0x5AAE5f93DCA0b2ea7F9d23c043F05a25605Ecede', '0x4E7A008C396e01B923AFE3A54A95C7cCC5E37B6a', '0x055315bAA7C47651F1380CaffEfD75fDDEd85607', '0xd923A1405ec8AfE2c5B3EF7FD3eF6201c6480221', '0x8CC9e8478c1738CdAeC993A7D3B4177B44dbdFe8', '0x63B135a7dfFd00dd92FE4bD58378Cf4b0110f362', '0x0C391ABB8ED8d0CeE77fDf843110E1037B300D71', 'dbm.eth', 'rykuno.eth', '0xeF8909f7110fA55b3f86c9e060EF4409487e7Ed1', '0xD8ef17547694f58b37bbe9b0787B90bE881d042f', 'kacarrot.eth', '0xaF8B25EFad6e955913F70B15814Ce402e2AE3fea', '0xceD462398bDFBb1B45d75b7F2c61172643a18009', '0xCC97dC4B6488CA9731c98E1Bd5656599b08BaC91', '0x307437454D29c87d2659d1b732Ac15700d7ED759', 'asapether.eth', '0x7e77bEC142eeA8FA40A59F47A1a4e2A4072a8E99', '0x0394a2D392564aba9db2F38c2D26C2fd34968247', '0xFF389e55ee4dD64D82B2b6FefEF3F7aA63B218fD', '0x547370AAe88B00dDd7abD8D8281d8118803B8539', '0x6d970C5D3Fb2CF589398148839b9833C06640B64', '0x468e334c8A768D3577bB4ed513E238271a754C1f', 'yyh.eth', '0xEBfb4E44a5F12E371aAd48ca0263a1373BAd0361', '0x2aB5D9f2b963d3d161756f74A60D530188087bfe', '0x906F8c3305ED677748A2B207D10Bf992bC5b327E', '0x06d37a3D0a912B93894c7B200EFf45faB608A7D8', '0x5835235E0BBc755F6f84dd21aCdEDaEB03b98cd0', 'kiddan.eth', '0xBfA56B2ce312B4b63F8f31D2b72ebc326486CA00', '0x6B52e83941eB10f9c613c395A834457559a80114', 'michaelq.eth', '🙅🏻\\u200d♀.eth', 'alrite.eth', 'cochang.eth', '0x98172111480CC81621fd8B12bEd2FB5095be11A5', '0x807f0c3Ecff2EA8C3526110Bb3c081FC2f533762', '0xbkc.eth', 'atlasparker.eth', '0xc70084445C4d24809C72b91e62B1168c727508CA', 'sundanced.eth', 'baiyu.eth', '0xf72e6FF2AFAfa1F8cf8B35ec3a1Ec8C691f44E13', '0x8A833dDBef1998cecFBF6930705BB20D8B084Dc1', '0x9287ad9C0Bcec202Cd3F6314415B9fb4a200aa59', 'bayc5339.eth', 'mr-tan.eth', '0x328A12FF1C3348aC79369b433Eb72Bb5B1Ad3253', '0x997e56f2b12ebD68D0e561149c9A8d32D6742672', '0x5D018611A65C87Ac28f7F20007CBb1A96dc9e591', '0xDE88C5F654E43083AdAF91206A8a8e225f3605f4', '0x1a81EC53721568Bc029Dc56E187d078A06FC75AA', '0x816F526075809713Edd8e9A344F8eBD44550904B', '0xbBEE3d18c8Ea290Ff6F7E05fC7ce7BB0f81d34a8', '0x6E0C6BF243232bCFef85A88eB61062626FfC1e2a', 'entropy4.eth', '0xFD0747603912A23e0eC6c29D6A952E184725FE96', '0xd1d1ae24f8BA128b54433B07f13DADEbee45C441', '0x57BB91191a7B6b6790aa72d8Db9aEa5fC07424DB', '0x9891529a510389712E215566ABf9F10fa0786014', '0xad189576BB7251fb9f7bf57a18784E7a0aD638e1', '0x3BE967A1750a92844aC9a8F28ec65381B7EDAd9B', '0xF278b687d9D41DebDD34b4D4B3EebFd8bc198DF3', '0xcd7c0038DCe424A46c380e7878C734901dcAc5aD', 'nftcrypto3.eth', '0x4B2c693068F3Df933145EfaF60bf61b98F53EccB', '0x31872e8f46fb45262974757B3c14e8726fF8F0bE', '0x158583fD32B7bFb11a29639533F23F03BEd79978', '0x7B8766b7fD12A1e113216D24Bd8CdC3C86E614F8', '0xd3194cc261953821F96C273d18229bcc504ff530', '0x98b3C9E825b605d03c947Ac0bB643E9b66Fb2eC9', '0x0E76E038086b18420fa3fa47ef86888e070412C4', 'nicosavaro.eth', '0xf274Ee9F95c21943A1600068FfFFB5Da1FEf74B6', 'yoel.eth', '0x531C3A623480743C5327cC14C9Bc5937B6555E76', 'kevinjlu.eth', 'milkbutcher.eth', '0x7A37Ca37dEaD7b16156f9b7c0a1576b0908DA271', '0xBC4c2Aeb7f520c1A834795d45c60a66e135F4b31', '0xC84F8d68D5822acE53D817D6FBF7191B37729698', '0xamplify.eth', 'ogle.eth', '1022pm.eth', '0x78FfD23416995db61c09db887729095A2aB71242', '0x0629ec429fcdF345E81451d110936012671A8E45', '0xe6fC9423CC1386f5B725434f44bfaCc6aFAC2bBf', '0xD74D4b30c39a9EFa7401F92d859C7b750B879677', '0x1d8c5303DfC01D3a486fC7133958B45720CB314a', '0xcdD12a9beBd103D8c85A211F826d2493c0b83F0a', 'nicos.eth', '0x00df0a54Fb57BB4A999B0e3E3746EdF52aB44c7b', 'lovemake.eth', 'ge3.eth', '0x56E094616618E5275E04CA9339E0Df1c2Aa77Cf4', '0x5BD115A645014Cd17cA2E49106e8BAA9e851b2Af', '0xc2eAA5870C31FFc069238A3C73C79bD29826E299', 'ellaorten.eth', 'cap108.eth', '0x16DbCd202be906c36667258799155d48Fb6C9584', '0xjw3.eth', '0x92D30E81648Df1553981afD7fD9e9859A533605B', '0x315B5B146FE401988b17b147DdAdb07587Ee36d4', '0x961D8705436D924B7C7130eeDAb3dA93F606503F', '0x25036F902217E9B3930C79BeFfe71D5e9DdE738d', '0x1850dd8FB9323B01C340d0eb1da1Ec16CC8EE1a2', '0xbE3418aE6D38A6B6927704600D258cD353A94215', '0xf8C9c83b2787435fa504cCAbc07Ed7e66dD4E93f', '2van.eth', '0x1201E97189D3924CeC1EdB47d04236d918fA89f1', 'warrenvault.eth', '0xeC0b510f89c910b76DDc6c58F767B4813436b9BD', 'wwy.eth', 'leorad.eth', '0x79Dc3F8Ab4cb561ba15Aa29503a647201a924832', '0x47A930bf00886a916Be7826724A716394824B636', 'kingkitegavault.eth', '0x26b95D665D28EC4C53EBEE834fC2A274D32f5A76', '0x01de321EbE92e51b1cf0610CfeD109c0877Ff980', '0xC1741f18E6cc27439439B2bF3f58A341234D4BB6', '0x8562Fe5154beD2d70F69D90fEC48BA0B9b45F404', 'dhes.eth', '0x8E57BF9684EF2c36fD01E8C67E34e94596bFb42b']\n"
     ]
    }
   ],
   "source": [
    "l1 = [f\"{key}\" for key in value_counts3.keys()]\n",
    "l2 = [f\"{value_counts2[key]}\" for key in value_counts3.keys()]\n",
    "l3 = [f\"{value_counts1[key]}\" for key in value_counts3.keys()]\n",
    "\n",
    "print(l1)"
   ]
  },
  {
   "cell_type": "code",
   "execution_count": 14,
   "id": "acfc4b1e",
   "metadata": {},
   "outputs": [
    {
     "name": "stdout",
     "output_type": "stream",
     "text": [
      "['105', '10', '56', '71', '16', '5', '15', '4', '2', '5', '1', '2', '12', '6', '2', '4', '1', '6', '4', '1', '3', '1', '1', '1', '3', '2', '2', '6', '2', '1', '2', '1', '2', '2', '2', '1', '1', '2', '1', '1', '1', '5', '1', '1', '5', '2', '1', '1', '9', '3', '1', '9', '3', '9', '3', '8', '1', '1', '2', '2', '4', '4', '4', '1', '7', '2', '1', '3', '2', '1', '6', '1', '3', '2', '2', '3', '2', '3', '3', '3', '2', '2', '2', '1', '2', '6', '2', '1', '5', '1', '1', '1', '5', '1', '1', '5', '1', '1', '2', '2', '4', '1', '2', '1', '2', '2', '1', '2', '2', '2', '2', '1', '2', '4', '2', '1', '1', '2', '2', '4', '4', '2', '1', '1', '1', '1', '1', '3', '3', '1', '1', '1', '1', '1', '3', '3', '1', '1', '1', '1', '3', '3', '1', '1', '1', '1', '1', '3', '1', '3', '1', '1', '1', '1', '3', '1', '1', '1', '1', '1', '3', '1', '1', '1', '3', '1', '1', '1', '1', '1', '1', '1', '1', '1', '1', '1', '2', '2', '2', '1', '1', '1', '1', '1', '1', '1', '1', '2', '1', '2', '1', '1', '1', '2', '1', '2', '1', '2', '2', '1', '1', '1', '1', '1', '1', '1', '2', '1', '1', '1', '1', '2', '2', '1', '2', '2', '1', '2', '1', '2', '2', '2', '2', '1', '2', '2', '2', '1', '1', '2', '1', '1', '1', '1', '2', '1', '1', '1', '2', '1', '1', '1', '1', '2', '1', '2', '2', '2', '1', '2', '2', '2', '1', '1', '2', '2', '2', '1', '1', '1', '2', '1', '2', '1', '1', '1', '1', '1', '1', '1', '1', '1', '1', '1', '1', '1', '1', '1', '1', '1', '1', '1', '1', '1', '1', '1', '1', '1', '1', '1', '1', '1', '1', '1', '1', '1', '1', '1', '1', '1', '1', '1', '1', '1', '1', '1', '1', '1', '1', '1', '1', '1', '1', '1', '1', '1', '1', '1', '1', '1', '1', '1', '1', '1', '1', '1', '1', '1', '1', '1', '1', '1', '1', '1', '1', '1', '1', '1', '1', '1', '1', '1', '1', '1', '1', '1', '1', '1', '1', '1', '1', '1', '1', '1', '1', '1', '1', '1', '1', '1', '1', '1', '1', '1', '1', '1', '1', '1', '1', '1', '1', '1', '1', '1', '1', '1', '1', '1', '1', '1', '1', '1', '1', '1', '1', '1', '1', '1', '1', '1', '1', '1', '1', '1', '1', '1', '1', '1', '1', '1', '1', '1', '1', '1', '1', '1', '1', '1', '1', '1', '1', '1', '1', '1', '1', '1', '1', '1', '1', '1', '1', '1', '1', '1', '1', '1', '1', '1', '1', '1', '1', '1', '1', '1', '1', '1', '1', '1', '1', '1', '1', '1', '1', '1', '1', '1', '1', '1', '1', '1', '1', '1', '1', '1', '1', '1', '1', '1', '1', '1', '1', '1', '1']\n"
     ]
    }
   ],
   "source": [
    "print(l2)"
   ]
  },
  {
   "cell_type": "code",
   "execution_count": 15,
   "id": "51c666ab",
   "metadata": {},
   "outputs": [
    {
     "name": "stdout",
     "output_type": "stream",
     "text": [
      "['53', '181', '27', '9', '22', '49', '7', '19', '37', '8', '39', '19', '3', '6', '16', '8', '32', '5', '7', '25', '8', '23', '22', '21', '7', '9', '9', '3', '8', '16', '8', '16', '6', '6', '6', '12', '12', '6', '11', '11', '11', '2', '10', '10', '2', '5', '10', '10', '1', '3', '9', '1', '3', '1', '3', '1', '8', '8', '4', '4', '2', '2', '2', '7', '1', '3', '6', '2', '3', '6', '1', '6', '2', '3', '3', '2', '3', '2', '2', '2', '3', '3', '3', '6', '3', '1', '3', '6', '1', '5', '5', '5', '1', '5', '5', '1', '4', '4', '2', '2', '1', '4', '2', '4', '2', '2', '4', '2', '2', '2', '2', '4', '2', '1', '2', '4', '4', '2', '2', '1', '1', '2', '3', '3', '3', '3', '3', '1', '1', '3', '3', '3', '3', '3', '1', '1', '3', '3', '3', '3', '1', '1', '3', '3', '3', '3', '3', '1', '3', '1', '3', '3', '3', '3', '1', '3', '3', '3', '3', '3', '1', '3', '3', '3', '1', '2', '2', '2', '2', '2', '2', '2', '2', '2', '2', '2', '1', '1', '1', '2', '2', '2', '2', '2', '2', '2', '2', '1', '2', '1', '2', '2', '2', '1', '2', '1', '2', '1', '1', '2', '2', '2', '2', '2', '2', '2', '1', '2', '2', '2', '2', '1', '1', '2', '1', '1', '2', '1', '2', '1', '1', '1', '1', '2', '1', '1', '1', '2', '2', '1', '2', '2', '2', '2', '1', '2', '2', '2', '1', '2', '2', '2', '2', '1', '2', '1', '1', '1', '2', '1', '1', '1', '2', '2', '1', '1', '1', '2', '2', '2', '1', '2', '1', '2', '1', '1', '1', '1', '1', '1', '1', '1', '1', '1', '1', '1', '1', '1', '1', '1', '1', '1', '1', '1', '1', '1', '1', '1', '1', '1', '1', '1', '1', '1', '1', '1', '1', '1', '1', '1', '1', '1', '1', '1', '1', '1', '1', '1', '1', '1', '1', '1', '1', '1', '1', '1', '1', '1', '1', '1', '1', '1', '1', '1', '1', '1', '1', '1', '1', '1', '1', '1', '1', '1', '1', '1', '1', '1', '1', '1', '1', '1', '1', '1', '1', '1', '1', '1', '1', '1', '1', '1', '1', '1', '1', '1', '1', '1', '1', '1', '1', '1', '1', '1', '1', '1', '1', '1', '1', '1', '1', '1', '1', '1', '1', '1', '1', '1', '1', '1', '1', '1', '1', '1', '1', '1', '1', '1', '1', '1', '1', '1', '1', '1', '1', '1', '1', '1', '1', '1', '1', '1', '1', '1', '1', '1', '1', '1', '1', '1', '1', '1', '1', '1', '1', '1', '1', '1', '1', '1', '1', '1', '1', '1', '1', '1', '1', '1', '1', '1', '1', '1', '1', '1', '1', '1', '1', '1', '1', '1', '1', '1', '1', '1', '1', '1', '1', '1', '1', '1', '1', '1', '1', '1', '1', '1', '1', '1', '1', '1', '1', '1', '1']\n"
     ]
    }
   ],
   "source": [
    "print(l3)"
   ]
  },
  {
   "cell_type": "code",
   "execution_count": 16,
   "id": "89694ede",
   "metadata": {},
   "outputs": [
    {
     "name": "stdout",
     "output_type": "stream",
     "text": [
      "(['dingaling.eth', 'beanwhale.eth', '0xf896527c49b44aAb3Cf22aE356Fa3AF8E331F280', 'canaryvault.eth', '0xDe112B77A1a72c726D8C914c23dCEaA53273c351', '0xA8189c566c8b602E23b016DA819c11dAe50160D6', '0xwave.eth', '0x34B14E83D7Da6c6A30c46Bf89ff93b066e139154', '0x3fb160A681806aCC91AED14c284C09A96ebC9dfc', '0x44b51387773ce3581156d9accb27849a204F31DC', 'silentgarden.eth', '0x8Be35CA7f8CF057eF0857276aCc578C0a2E7A027', '0x6B83B6084FA4c4e36D5Af9c100160ed7DCE6A040', 'sina.eth', '0x6b7ada3Fe5CcF3aB10a8E7aE7f4593B88b3BF385', '0x5FC2AC23d28c94d570cfb00813D2Ab8882B4fb54', 'cryptopolitan.eth', '0x8BA68CFe71550EfC8988D81d040473709B7F9218', '0xB7eF760F30d139097bA547bD6f0dfaeCbf148452', 'livioxx.eth', '0x5CB803c31e8f4F895a3AB19d8218646dC63e9Dc2', 'discusfish.eth', 'mian.eth', 'yfimaxi.eth', '0x3AE85D19566C1daCea625B2909E07a6f4b72FfB3', '0x6E404D8eBf475e196E0581Df3B5C1D43478ad40C', '0x703229Ec1005fba3108883b8A094EA206FC1E161', 'zazpowered.eth', '0xEab23c1E3776fAd145e2E3dc56bcf739f6e0a393', 'shrimpwen.eth', 'sliu.eth', 'justmaiko.eth', '0x9DD9C2e13af13D01b303c70a48e41B13bd93c8d6', '0xbeB882685D22edb8d57a6ccC8c275e00B967Fcd1', '0x7b3aFc18936f9d0410002CDc9c4F28d772ca41AF', '0xbCef0C37b295526B666c8303e10D8AcA8Cf17890', '0x624119f7710A36e86Af1E0E0BAA9F04Ad466E097', '🤸🏽\\u200d♂.eth', 'north-korea.eth', '0x5bfF7265f68939907255655e449541a53c643B0d', '0xc602bbe267bb6D68EFBC394E54D7B6Faf0355695', '99th.eth', 'luey.eth', 'sebaudet.eth', '0x196FBE6fe43710D48C248771B06EC57eb49EaFC3', '0x0743882fa09A0c257B18d53dC1B101d3F32a04E5', '0xfffa6Fc6aCc3DBe04B175862376f1c5FF88Cf9C1', 'togekiss.eth', '0xE1BF8839930b173a97Ac29DC33C7774416517811', '0x20786273755caB64CAd8a40D48fA57df1faFD981', 'momscreditcard.eth', 'feld4014.eth', '0x17331428346E388f32013e6bEc0Aba29303857FD', '0xF4e423Ce220e4d9FeDcFebCD755ff9d37dc244B2', '0x1d5e42F1d4C5a4a217f76f474a23b67945c8cedD', 'crypt0jack.eth', '0xc374B767f4A3073B3b21f31B06498ca7268439b3', '0x40247eA51AA03109567EfeB701952408F7760C90', '0x87D3ee8cC75C3916e3B6F56E307AADCD3AFefF68', '0xb4Dd38944d7c01C815c96348E28090ae3CbA87f6', 'excelsior.eth', 'etoro.eth', '0xc0ca66536f15d2d11f418Bf4637d1a7Be681bF3A', 'zeroz.eth', '0x1Dec074B2F4281d9Be5783A961D82F6Ee67efaB7', '0xBfd8cba6a1E10e1Ab4Fa11A0062F4e52e13D260f', '0x129B043520711c7BC94025b09bed6AF74d35a372', '0x1ed3B397504a52Fe86bda23Cf3d4c016D680E8a9', 'dashuo.eth', '0xE6030d4E773888e1DfE4CC31DA6e05bfe53091ac', 'bitcoinpirate.eth', '0x0C2DE53b7f4520AFD3F92ac793943CF90fbCFe13', '0xfBfF1eBff67093A239bC1343aE6a5e3372A14Ac0', '85bro.eth', '1king.eth', '0xd71D40C047a2F1eA5B523dDeAC03A9024d82f618', '0x8E9A5A46928E04912a4A49533Abf09C1c107bfcA', 'shatt-vault.eth', '0x028134db627930C9a355261c83b86e2b40152304', 'zeejenkinz.eth', 'chefpierre.eth', '0x1254958BD5073C6B238E516298f0c48f6f60A78e', 'phua.eth', 'shawnz.eth', 'alisajwani.eth', 'jackparker.eth', 'cypherdao道.eth', '0xBa528b2E785b1e05C64B5C48C009FCA19bF23DF0', '0xDA0Da0Da0Da0a77740bB62c5c9D45423533d0CE2', '0x6491bce963FcAe210b7C843c4829202Dc2479C03', 'sucher.eth', 'onlyjpeg.eth', '0x0759e32943F66A586F40EcB8EbBAB569707768Bf', '0xe0FaBa4256e2cA17442dC54e59c1c3F6EF8c216E', '1606.eth', '0xa72B1bF5731F92101fb6fEf1280039616550F99C', '0xB2e1515Dfe9BdE106299C33529C582e5388D195D', '0x2cDd2b57522B54398C3C1Dd4F663F55C721d8a89', '0x542D891303F5B70bBca0cCBa83811560F45968a4', '0xF51dD21fc5Ead51c10Cb6266628A39027492A65E', '0xb3FD5137AA504Ce9c2636521A74B41daba416837', '0x1141A2881050320C927aA04D293530CD2dB6870B', 'internetartcollective.eth', 'sendrock.eth', '0xcd5ee4ebDFe82b28D604B6C8D229654205824F47', '0xc6400A5584db71e41B0E5dFbdC769b54B91256CD', 'anyfund.eth', '0x7E0f2BEe798859345B38dE3a276Fd4A66479Ba1D', 'slmvault.eth', '0x272Eb12494845075a1c0b13A6F069D8aC1d8ac79', '0x0d3C0feE11011B904711695581167115c2636Dd1', 'boredhodler.eth', '0xbC1934f548417f79ab10138B57716Fbc7C25c177', 'baloubayc.eth', '0xFC30641feF0b93556917bC20F0ea88C44d15D786', '0x4Ce2C4835BDceecEe271BB8839f8871882Ac7570', '0x824B25B219b5De8dC30895D48a71534504a7F95C', 'egomint.eth', 'blindleaf.eth', '0x1AD7CFEa037717Cb8B46b8ea50Be5B5E72C1B814', 'fuckbeeple.eth', 'doomvault.eth', '0x60e2431F9aF6A53C7c23C19A691a733FD3CD1c1e', 'jjlin.eth', '0xC46D5cBf77e854f8FaE1EF979421060f8BA36988', '0x6112083d4BB12dBF64e4850842685aaEfBeAcb10', 'oojjoo.eth', 'kinghill.eth', '0x527Cc4376C51B21F58A8e72DE66666C3B0d2D507', 'z3th.eth', 'icedcoffeee.eth', '0xd499ccc5d212b61fE797fea03c35d5b2f8629002', '0x9C2EcD52e83A5fF9d0c981570A9C6eA044483410', '0x60aA54f3CDb41e2E3684c2FA867f91587aa7D856', '0x05c250120ce07bA6fe361B39ac344148435C25Ca', '0x34cCc716Fa3f6c667dae0E6D9b1e0a9418873b8a', '0x5B301C1cbB663EA5C32ea5d8D45dA0381d1b9D5d', 'sirverlin.eth', 'lowkissed.eth', '0x66Af4d4f0a18E95a804CFC3852ff6F54d8BF2867', 'nanexcool.eth', '0x1BF22a19a8d0B9cdFDd5c0859b5BD72c05F2d6a2', 'kc66.eth', '0xaaf3c82bbD30D08D06fC8d16c4186E8692784DA1', '0x8b6BC52ec3D7F5f2AE212EE68a25C2B9e814C3DE', '0xd7510a925475Cb8377BC8D2A7F1c792022B68DF8', '0xe6ed9A9Ba1719b4f8E33718ed7171bA0a1F70818', '0xF7812480cf924DB2Ba0BF78fec942A57139205a1', '0x881F0EA0049622a240C519062E6ABe75085D68D9', 'tatis.eth', '0x8962FfE9C480026C783F36b501fc6e73ae5B2b0e', '0x36ac95d323c8f19c656e081946944ba35723c2A5', 'sno.eth', '0xe15eC38c4bF80D9d79dC738eeC22136dAFdA0d08', '0xBE7D2b4D72E60533cd75Cf30F7cD04528e744775', 'hiphopcowboy.eth', 'farokh.eth', '0x118B11fAbE82D94FA2c5d119c291B1f2a0D7a4eF', '0x396E0c41A7E55223b8797B6FDB7fAA53504E9D29', '0xfc92267A980Deb6B32C9987A048189F8D86374FA', '0x4BD56f1f449f1e88c106fa3a5dc8a1477a792739', 'aliceice.eth', '0xD47B6c30B3F1ABB1e6Ccd4d1e648579948FbFBe0', 'vault.warrencheng.eth', '0x6Cd2D84298F731fa443061255a9a84a09dbCA769', '0x7cf91c0eF074F4e3fbeEbDa55DDE44ddBd20443E', '0xD099B763fa289F3eB695Cf69fd4102C6bf266E0d', '0x1b336F74B86568dC39796EC58E581831D58BD029', 'njlee.eth', 'vault.mondoggg.eth', '0x8a79d66167A3360e4e453bf32cb5457B6d4c8f1c', 'ilikecats.eth', 'abubu.eth', '0x8ba525B1E98735d24417aE324A9709B2396fA7C8', '0x14A97F78647C4DAEAfF22745D26aaFc540e6449a', '0x658Dd79a72f982BBA6178539e6669c1518A370e4', 'michaelk.eth', '0x2A64355e84EaAdC708CE43995D928A02660f6369', '0x0d5489b63ddE73E1CCb49C594DA88257c60494C3', 'sconeman.eth', '0x750AcAeB9c1d61596694Ea7bfE8458A74147FA45', 'png-capital.eth', '0xD444f2435857EC18BE4D7Ed194A339cd5a9BEb36', '0xe2329896DC82e23F02B7a19C61ed35C24165812d', 'camjordan.eth', '0xE2e98D7B8b56eac7f200a8120aD2bFfCCee36D59', 'nexttimeiwilltakeprofits.eth', 'beijingdou.eth', '0x4D37643f599C6FcB95E289BF1eb0b5050d25068D', '0x4548D498460599286CE29BAf9e6B775C19385227', '0x4887A8A7056Ca3237c3d5EDE917f0dE957e2Cd20', 'samanr.eth', '0x05864A7448918E04B1F8F4d157fd8Be09954B6c6', 'rix.eth', '0xD42ceEB6940a6d3d2830BDc3C8b2EB06C42D17B9', 'vora.eth', '0xac8bC7F417790c13402Fb10822c743f1266bbA8d', '0xefa67D95a695E8C5CB92621F33F72D1979E88E7e', 'keklord.eth', '0xB44B00eDdf1c4669Dd14e502236EA68BbB916161', 'boredrobotvault.eth', '0x21d2D0d92660cBA6C4B439B8E159D14dF6637117', '0xAa905ca8b23D6c134fb1ff6ed5fd5A642eFBd8FD', 'brennen.eth', '0x3397a5092005920c83A89B335117105dA9375446', '0x5C503Df9051B1dbb941f3046cb293C97d7CEf4aD', '0xb5ED351A7Cc4D806Bb1a00A7dD82dC3bA926a901', 'alfietao.eth', '0x529855CFe2e86bf4848F9CB612978188be30C4bA', 'jjjwen.eth', '0xa80cFf1EFF4Ade72B21d5aAbEc6375Bf0F69f073', '0x7807EE65D24A6B845823db1191B0c938Dc984cF4', '0x4A59eF5c8eaC8b43471e3c782996a0d07c554133', 'asm2525.eth', '0x284D711cE4E431EDe3d96a549A25C6bEda953b9A', 'banksfucks.eth', '0x8dbA8ba327f5D36a765B844270Fe8A8Ed25633b5', '0x8bB07635c71268Dc4f3928b023D5692E80C818B6', 'vis.eth', '0x03cD6F145bA9B86566303205a63d3D251F2233Cd', '0x5b2d08539b3317fae2DB93706D709d859c6103D5', '0xb0E66e091E56E3E3b00C8196F2c55971de8cd85D', '0xA887b1F658aaC0ED2A011d5B352ccA49157DCbcC', '0x58D9Db26ce86f7794Cca22FDdc983F70366f3428', '0x6897625C2Da7E985e9c22E0d7B27A960Fc81D1D2', '0x7A3C2954AC417fa87686c2e63F3dE71ff1675daa', 'cipvault.eth', '0x9451F0eF7a6BbBB6466B69cA19b7944D7Bb836fd', '0xC2B39a520d5088aFDa4Fdeac32DbA62516Ed6119', 'nftari.eth', '0xDBf66A7Ae4C2006ab2c548Bea03379d4E5C5c872', 'reeroo.eth', 'ferenyxvault.eth', 'punk4242.eth', '0x904D27d0743Bfcff6f6a39b885d25Cd461c32F9A', 'tonkatough.eth', '0x571C513df562470D5cFf30Fbe947f7Bf46263b95', 'dortvault.eth', '0xA8A384fCDA7B5ea26bC51e9c33AE77cDBc89ca14', '0xdEe8175d692D21d61628B88a11cC6EE868d55D96', '0xEdd88CA63D7C0B9cF182aFDEE3852258F31961f9', '0xCd32895ffbC17085Bf27D9d6411d4d8295ff7786', '0x10A7330415017A71Ba28CD22a5EEc748b280D6CA', 'snkrz93.eth', '0xe1a5288a4752778BE59d23F7e791b8866f6BAF38', '0xbD6907023e8129C6219536C1Bf2e7FB9e0CEd8E1', '0xc3AA606D75Bad4CF846c8bBe12E6AA487D640839', '0x1f7Cc5f5DB829494B974698963654Df26DBBF4d2', 'jackyw.eth', 'thegoodmanlife1.eth', '0x97b805EBa82A4788DecA24c24f58c2283179Ba29', '0xb5417FDB7333Dd18dbc73b20ec84FfF51F425039', '0x8022079117e47Af98312e86069b6Fd87aFBe969e', '0x54585647EdAeA3066D191024e4599B098f8f19E0', 'mmxyz.eth', '0xF4E76B7272831Fe4C4353c79E0F63A81C00651C2', 'yossylondon.eth', '0x7a0DC6d20BB5aD374b11C3f6fD6d39e0998FFcE9', '0xdA44E1c6AdDF1D218cF9633F6E1eDFFE11e41Ea6', 'hot.0xwave.eth', '0x26e437baBD9388F20D00fDC7A45E26a516925f7f', 'nfty00.eth', '0x4683d126f02e6940922D2A42938B73eb96B889Fc', '0x4880FaF3b9950ef0a9389197E65D6573AA1BE977', '0xbA82F512bBef0737D48C4C05B6a65C23DE770046', '0x0E40F328d101147b28719b2cB2A56Fcbf7d05667', 'mrhealthy.eth', '0xC8dDA504356195ba5344E5a9826Ce07DfEaA97b6', '5369vault.eth', '0xd42fab871e708308A178798Edd7EaF63638CE519', '0x9f4A549dD4415968f0279dB9Ae43AFfD7354CFDE', 'spacez.eth', 'rvm.eth', 'vault.d34thst4lker.eth', '0xBba5b5a12375DAe4b6fc293A8203Bfec4Ca6476C', '0xe6C3607d12589AD2d3b010Fc8D3f23A27B2bA93C', '0xc4cAE9E74593011f5d5A7b7eAbD2d2a8c7E3d4ea', 'azeer.eth', '0xE08c139f4c91d8bAeB1d59A557A8F8d14fA5f45d', '0xd4eBD2674E755bd9cbcCAfE780450745C2bd40A4', '0xA045dfB9b742b06160fac011A27F06d854e80f64', '0x28d8809De7150B359310040615cC1DE27e0d155e', '0x196D1D271eEE9b34bd84902923902893C6CeCf79', '0x675e4accf559807EdE5A1A159A8579C7d5344B5e', 'apelom.eth', 'smilejack.eth', 'konachan.eth', '0xf4e5ef21C31c6C7FF6ebbC5701c64B251EeE06d1', '0xf26dc29032475aC6aeBcb95E630F12F69C3e8A90', 'kingcoppy.eth', '0xD8633185E23B3EC01b65Eba96011DCe45b597503', '0x75750D0BbA74ECb961Fa588873A0EF69c54361c1', '0xf67CFd9e009BA5060e07B700A7985fB026d9c449', 'charliehu.eth', '0x7c901D78bA68B5be8368c2305f3b270Bf93C4CED', '0x07ce6B69220E9a075619426244858a5D58B70F8F', '0x2924196a2Ec71ea4AE1B1357381EcCdCEe6C18f2', 'lyden.eth', '0x9D25D81D030458B7fb5CB0e036a0b57AfDC5E455', '0x12f9B53e44b56774d235B6E6f183fDe8a9043065', 'fvckrender.eth', '0x44dd1ed9129B54Bbb802127B8981272e7A553458', '0xD91341F739C2fEAc1e048A995B0d602D92959123', 'juno106.eth', '0xDD79E628B4d93Fc3055FA3775750656e14375064', '0xf7e72b07890362603abAE1F7096063Cc83a3Cc93', '0xa5DEe9B883ea0B6729bd95E707CF7Be315BA44a2', '0x766204Baa84BC7BFb9081B2D932F54EF6d19f26B', '0x30b941418A71565980434CdE8692dbBc1fdB70EB', 'e88vaultx.eth', '0xdeC3537e19AB0F958f00580dE6B1b07A5f6F55f3', 'michaelchristopherbrown.eth', '0x4a231c6F2665Dd3921215F068b5686bA9f46a568', '0xE22be48F6E5c4bDb1578184a33421cd139C31bc4', '土澳大狮兄.eth', 'monkzero.eth', '0xC08f6Dd3776d34d827a458Ee0C39cE36e16f4bDA', 'princesatoshi.eth', '0x77F34B65b2CCA772dec60B10Be9323A2CdBf39f9', '0x21E115242fF2E57c5aAdFdAA58A56D722aA66612', '0xf2e03bB3Bae583D72D750b3EF443372F92CF2C24', '0xA895D36aa41583A51d1604143C420759E7920926', '0x1EfC22A134A410fEd4439c1B11B010dbEb8bD5D3', '0xA2d5BC7404bFd6Bf972215f665B8e792abC688b2', 'capvault.eth', '0x20654e37f79d55EfB6ABabD5B77c52A2f7EeAaC4', '0x0cE2f4C4826A34c0A7e183ef2F49081360fC404C', 'offline.joiito.eth', '0x27DB134012676a0542c667c610920e269AFE89B9', 'dsyk.eth', 'masonrothschild.eth', '0x3f703546E6af3e06D5a1653a352f0a05744d1928', 'tony-vault.eth', 'a7111a.eth', '0x388Ebb5528D2C35934063F51a1EC15935a8921f9', '0x47816D34a6092D6586d6aedeA548ed9D9a87207F', 'boredlarry.eth', '0x54dcC19f12956A0139E8C2A761395747f12C057c', '0x570b4cba2680D33333bB8475dA78ebF646632b12', '0x5AAE5f93DCA0b2ea7F9d23c043F05a25605Ecede', '0x4E7A008C396e01B923AFE3A54A95C7cCC5E37B6a', '0x055315bAA7C47651F1380CaffEfD75fDDEd85607', '0xd923A1405ec8AfE2c5B3EF7FD3eF6201c6480221', '0x8CC9e8478c1738CdAeC993A7D3B4177B44dbdFe8', '0x63B135a7dfFd00dd92FE4bD58378Cf4b0110f362', '0x0C391ABB8ED8d0CeE77fDf843110E1037B300D71', 'dbm.eth', 'rykuno.eth', '0xeF8909f7110fA55b3f86c9e060EF4409487e7Ed1', '0xD8ef17547694f58b37bbe9b0787B90bE881d042f', 'kacarrot.eth', '0xaF8B25EFad6e955913F70B15814Ce402e2AE3fea', '0xceD462398bDFBb1B45d75b7F2c61172643a18009', '0xCC97dC4B6488CA9731c98E1Bd5656599b08BaC91', '0x307437454D29c87d2659d1b732Ac15700d7ED759', 'asapether.eth', '0x7e77bEC142eeA8FA40A59F47A1a4e2A4072a8E99', '0x0394a2D392564aba9db2F38c2D26C2fd34968247', '0xFF389e55ee4dD64D82B2b6FefEF3F7aA63B218fD', '0x547370AAe88B00dDd7abD8D8281d8118803B8539', '0x6d970C5D3Fb2CF589398148839b9833C06640B64', '0x468e334c8A768D3577bB4ed513E238271a754C1f', 'yyh.eth', '0xEBfb4E44a5F12E371aAd48ca0263a1373BAd0361', '0x2aB5D9f2b963d3d161756f74A60D530188087bfe', '0x906F8c3305ED677748A2B207D10Bf992bC5b327E', '0x06d37a3D0a912B93894c7B200EFf45faB608A7D8', '0x5835235E0BBc755F6f84dd21aCdEDaEB03b98cd0', 'kiddan.eth', '0xBfA56B2ce312B4b63F8f31D2b72ebc326486CA00', '0x6B52e83941eB10f9c613c395A834457559a80114', 'michaelq.eth', '🙅🏻\\u200d♀.eth', 'alrite.eth', 'cochang.eth', '0x98172111480CC81621fd8B12bEd2FB5095be11A5', '0x807f0c3Ecff2EA8C3526110Bb3c081FC2f533762', '0xbkc.eth', 'atlasparker.eth', '0xc70084445C4d24809C72b91e62B1168c727508CA', 'sundanced.eth', 'baiyu.eth', '0xf72e6FF2AFAfa1F8cf8B35ec3a1Ec8C691f44E13', '0x8A833dDBef1998cecFBF6930705BB20D8B084Dc1', '0x9287ad9C0Bcec202Cd3F6314415B9fb4a200aa59', 'bayc5339.eth', 'mr-tan.eth', '0x328A12FF1C3348aC79369b433Eb72Bb5B1Ad3253', '0x997e56f2b12ebD68D0e561149c9A8d32D6742672', '0x5D018611A65C87Ac28f7F20007CBb1A96dc9e591', '0xDE88C5F654E43083AdAF91206A8a8e225f3605f4', '0x1a81EC53721568Bc029Dc56E187d078A06FC75AA', '0x816F526075809713Edd8e9A344F8eBD44550904B', '0xbBEE3d18c8Ea290Ff6F7E05fC7ce7BB0f81d34a8', '0x6E0C6BF243232bCFef85A88eB61062626FfC1e2a', 'entropy4.eth', '0xFD0747603912A23e0eC6c29D6A952E184725FE96', '0xd1d1ae24f8BA128b54433B07f13DADEbee45C441', '0x57BB91191a7B6b6790aa72d8Db9aEa5fC07424DB', '0x9891529a510389712E215566ABf9F10fa0786014', '0xad189576BB7251fb9f7bf57a18784E7a0aD638e1', '0x3BE967A1750a92844aC9a8F28ec65381B7EDAd9B', '0xF278b687d9D41DebDD34b4D4B3EebFd8bc198DF3', '0xcd7c0038DCe424A46c380e7878C734901dcAc5aD', 'nftcrypto3.eth', '0x4B2c693068F3Df933145EfaF60bf61b98F53EccB', '0x31872e8f46fb45262974757B3c14e8726fF8F0bE', '0x158583fD32B7bFb11a29639533F23F03BEd79978', '0x7B8766b7fD12A1e113216D24Bd8CdC3C86E614F8', '0xd3194cc261953821F96C273d18229bcc504ff530', '0x98b3C9E825b605d03c947Ac0bB643E9b66Fb2eC9', '0x0E76E038086b18420fa3fa47ef86888e070412C4', 'nicosavaro.eth', '0xf274Ee9F95c21943A1600068FfFFB5Da1FEf74B6', 'yoel.eth', '0x531C3A623480743C5327cC14C9Bc5937B6555E76', 'kevinjlu.eth', 'milkbutcher.eth', '0x7A37Ca37dEaD7b16156f9b7c0a1576b0908DA271', '0xBC4c2Aeb7f520c1A834795d45c60a66e135F4b31', '0xC84F8d68D5822acE53D817D6FBF7191B37729698', '0xamplify.eth', 'ogle.eth', '1022pm.eth', '0x78FfD23416995db61c09db887729095A2aB71242', '0x0629ec429fcdF345E81451d110936012671A8E45', '0xe6fC9423CC1386f5B725434f44bfaCc6aFAC2bBf', '0xD74D4b30c39a9EFa7401F92d859C7b750B879677', '0x1d8c5303DfC01D3a486fC7133958B45720CB314a', '0xcdD12a9beBd103D8c85A211F826d2493c0b83F0a', 'nicos.eth', '0x00df0a54Fb57BB4A999B0e3E3746EdF52aB44c7b', 'lovemake.eth', 'ge3.eth', '0x56E094616618E5275E04CA9339E0Df1c2Aa77Cf4', '0x5BD115A645014Cd17cA2E49106e8BAA9e851b2Af', '0xc2eAA5870C31FFc069238A3C73C79bD29826E299', 'ellaorten.eth', 'cap108.eth', '0x16DbCd202be906c36667258799155d48Fb6C9584', '0xjw3.eth', '0x92D30E81648Df1553981afD7fD9e9859A533605B', '0x315B5B146FE401988b17b147DdAdb07587Ee36d4', '0x961D8705436D924B7C7130eeDAb3dA93F606503F', '0x25036F902217E9B3930C79BeFfe71D5e9DdE738d', '0x1850dd8FB9323B01C340d0eb1da1Ec16CC8EE1a2', '0xbE3418aE6D38A6B6927704600D258cD353A94215', '0xf8C9c83b2787435fa504cCAbc07Ed7e66dD4E93f', '2van.eth', '0x1201E97189D3924CeC1EdB47d04236d918fA89f1', 'warrenvault.eth', '0xeC0b510f89c910b76DDc6c58F767B4813436b9BD', 'wwy.eth', 'leorad.eth', '0x79Dc3F8Ab4cb561ba15Aa29503a647201a924832', '0x47A930bf00886a916Be7826724A716394824B636', 'kingkitegavault.eth', '0x26b95D665D28EC4C53EBEE834fC2A274D32f5A76', '0x01de321EbE92e51b1cf0610CfeD109c0877Ff980', '0xC1741f18E6cc27439439B2bF3f58A341234D4BB6', '0x8562Fe5154beD2d70F69D90fEC48BA0B9b45F404', 'dhes.eth', '0x8E57BF9684EF2c36fD01E8C67E34e94596bFb42b'], ['105', '10', '56', '71', '16', '5', '15', '4', '2', '5', '1', '2', '12', '6', '2', '4', '1', '6', '4', '1', '3', '1', '1', '1', '3', '2', '2', '6', '2', '1', '2', '1', '2', '2', '2', '1', '1', '2', '1', '1', '1', '5', '1', '1', '5', '2', '1', '1', '9', '3', '1', '9', '3', '9', '3', '8', '1', '1', '2', '2', '4', '4', '4', '1', '7', '2', '1', '3', '2', '1', '6', '1', '3', '2', '2', '3', '2', '3', '3', '3', '2', '2', '2', '1', '2', '6', '2', '1', '5', '1', '1', '1', '5', '1', '1', '5', '1', '1', '2', '2', '4', '1', '2', '1', '2', '2', '1', '2', '2', '2', '2', '1', '2', '4', '2', '1', '1', '2', '2', '4', '4', '2', '1', '1', '1', '1', '1', '3', '3', '1', '1', '1', '1', '1', '3', '3', '1', '1', '1', '1', '3', '3', '1', '1', '1', '1', '1', '3', '1', '3', '1', '1', '1', '1', '3', '1', '1', '1', '1', '1', '3', '1', '1', '1', '3', '1', '1', '1', '1', '1', '1', '1', '1', '1', '1', '1', '2', '2', '2', '1', '1', '1', '1', '1', '1', '1', '1', '2', '1', '2', '1', '1', '1', '2', '1', '2', '1', '2', '2', '1', '1', '1', '1', '1', '1', '1', '2', '1', '1', '1', '1', '2', '2', '1', '2', '2', '1', '2', '1', '2', '2', '2', '2', '1', '2', '2', '2', '1', '1', '2', '1', '1', '1', '1', '2', '1', '1', '1', '2', '1', '1', '1', '1', '2', '1', '2', '2', '2', '1', '2', '2', '2', '1', '1', '2', '2', '2', '1', '1', '1', '2', '1', '2', '1', '1', '1', '1', '1', '1', '1', '1', '1', '1', '1', '1', '1', '1', '1', '1', '1', '1', '1', '1', '1', '1', '1', '1', '1', '1', '1', '1', '1', '1', '1', '1', '1', '1', '1', '1', '1', '1', '1', '1', '1', '1', '1', '1', '1', '1', '1', '1', '1', '1', '1', '1', '1', '1', '1', '1', '1', '1', '1', '1', '1', '1', '1', '1', '1', '1', '1', '1', '1', '1', '1', '1', '1', '1', '1', '1', '1', '1', '1', '1', '1', '1', '1', '1', '1', '1', '1', '1', '1', '1', '1', '1', '1', '1', '1', '1', '1', '1', '1', '1', '1', '1', '1', '1', '1', '1', '1', '1', '1', '1', '1', '1', '1', '1', '1', '1', '1', '1', '1', '1', '1', '1', '1', '1', '1', '1', '1', '1', '1', '1', '1', '1', '1', '1', '1', '1', '1', '1', '1', '1', '1', '1', '1', '1', '1', '1', '1', '1', '1', '1', '1', '1', '1', '1', '1', '1', '1', '1', '1', '1', '1', '1', '1', '1', '1', '1', '1', '1', '1', '1', '1', '1', '1', '1', '1', '1', '1', '1', '1', '1', '1', '1', '1', '1', '1', '1', '1', '1', '1', '1', '1', '1', '1', '1', '1', '1', '1', '1', '1', '1'], ['53', '181', '27', '9', '22', '49', '7', '19', '37', '8', '39', '19', '3', '6', '16', '8', '32', '5', '7', '25', '8', '23', '22', '21', '7', '9', '9', '3', '8', '16', '8', '16', '6', '6', '6', '12', '12', '6', '11', '11', '11', '2', '10', '10', '2', '5', '10', '10', '1', '3', '9', '1', '3', '1', '3', '1', '8', '8', '4', '4', '2', '2', '2', '7', '1', '3', '6', '2', '3', '6', '1', '6', '2', '3', '3', '2', '3', '2', '2', '2', '3', '3', '3', '6', '3', '1', '3', '6', '1', '5', '5', '5', '1', '5', '5', '1', '4', '4', '2', '2', '1', '4', '2', '4', '2', '2', '4', '2', '2', '2', '2', '4', '2', '1', '2', '4', '4', '2', '2', '1', '1', '2', '3', '3', '3', '3', '3', '1', '1', '3', '3', '3', '3', '3', '1', '1', '3', '3', '3', '3', '1', '1', '3', '3', '3', '3', '3', '1', '3', '1', '3', '3', '3', '3', '1', '3', '3', '3', '3', '3', '1', '3', '3', '3', '1', '2', '2', '2', '2', '2', '2', '2', '2', '2', '2', '2', '1', '1', '1', '2', '2', '2', '2', '2', '2', '2', '2', '1', '2', '1', '2', '2', '2', '1', '2', '1', '2', '1', '1', '2', '2', '2', '2', '2', '2', '2', '1', '2', '2', '2', '2', '1', '1', '2', '1', '1', '2', '1', '2', '1', '1', '1', '1', '2', '1', '1', '1', '2', '2', '1', '2', '2', '2', '2', '1', '2', '2', '2', '1', '2', '2', '2', '2', '1', '2', '1', '1', '1', '2', '1', '1', '1', '2', '2', '1', '1', '1', '2', '2', '2', '1', '2', '1', '2', '1', '1', '1', '1', '1', '1', '1', '1', '1', '1', '1', '1', '1', '1', '1', '1', '1', '1', '1', '1', '1', '1', '1', '1', '1', '1', '1', '1', '1', '1', '1', '1', '1', '1', '1', '1', '1', '1', '1', '1', '1', '1', '1', '1', '1', '1', '1', '1', '1', '1', '1', '1', '1', '1', '1', '1', '1', '1', '1', '1', '1', '1', '1', '1', '1', '1', '1', '1', '1', '1', '1', '1', '1', '1', '1', '1', '1', '1', '1', '1', '1', '1', '1', '1', '1', '1', '1', '1', '1', '1', '1', '1', '1', '1', '1', '1', '1', '1', '1', '1', '1', '1', '1', '1', '1', '1', '1', '1', '1', '1', '1', '1', '1', '1', '1', '1', '1', '1', '1', '1', '1', '1', '1', '1', '1', '1', '1', '1', '1', '1', '1', '1', '1', '1', '1', '1', '1', '1', '1', '1', '1', '1', '1', '1', '1', '1', '1', '1', '1', '1', '1', '1', '1', '1', '1', '1', '1', '1', '1', '1', '1', '1', '1', '1', '1', '1', '1', '1', '1', '1', '1', '1', '1', '1', '1', '1', '1', '1', '1', '1', '1', '1', '1', '1', '1', '1', '1', '1', '1', '1', '1', '1', '1', '1', '1', '1', '1', '1', '1'])\n"
     ]
    }
   ],
   "source": [
    "holders = l1, l2, l3\n",
    "\n",
    "print(holders)"
   ]
  },
  {
   "cell_type": "code",
   "execution_count": 17,
   "id": "47a12381",
   "metadata": {},
   "outputs": [
    {
     "name": "stdout",
     "output_type": "stream",
     "text": [
      "                       0              1    \\\n",
      "Wallets      dingaling.eth  beanwhale.eth   \n",
      "BAYC Count             105             10   \n",
      "Azuki Count             53            181   \n",
      "\n",
      "                                                    2                3    \\\n",
      "Wallets      0xf896527c49b44aAb3Cf22aE356Fa3AF8E331F280  canaryvault.eth   \n",
      "BAYC Count                                           56               71   \n",
      "Azuki Count                                          27                9   \n",
      "\n",
      "                                                    4    \\\n",
      "Wallets      0xDe112B77A1a72c726D8C914c23dCEaA53273c351   \n",
      "BAYC Count                                           16   \n",
      "Azuki Count                                          22   \n",
      "\n",
      "                                                    5           6    \\\n",
      "Wallets      0xA8189c566c8b602E23b016DA819c11dAe50160D6  0xwave.eth   \n",
      "BAYC Count                                            5          15   \n",
      "Azuki Count                                          49           7   \n",
      "\n",
      "                                                    7    \\\n",
      "Wallets      0x34B14E83D7Da6c6A30c46Bf89ff93b066e139154   \n",
      "BAYC Count                                            4   \n",
      "Azuki Count                                          19   \n",
      "\n",
      "                                                    8    \\\n",
      "Wallets      0x3fb160A681806aCC91AED14c284C09A96ebC9dfc   \n",
      "BAYC Count                                            2   \n",
      "Azuki Count                                          37   \n",
      "\n",
      "                                                    9    ...         453  \\\n",
      "Wallets      0x44b51387773ce3581156d9accb27849a204F31DC  ...  leorad.eth   \n",
      "BAYC Count                                            5  ...           1   \n",
      "Azuki Count                                           8  ...           1   \n",
      "\n",
      "                                                    454  \\\n",
      "Wallets      0x79Dc3F8Ab4cb561ba15Aa29503a647201a924832   \n",
      "BAYC Count                                            1   \n",
      "Azuki Count                                           1   \n",
      "\n",
      "                                                    455                  456  \\\n",
      "Wallets      0x47A930bf00886a916Be7826724A716394824B636  kingkitegavault.eth   \n",
      "BAYC Count                                            1                    1   \n",
      "Azuki Count                                           1                    1   \n",
      "\n",
      "                                                    457  \\\n",
      "Wallets      0x26b95D665D28EC4C53EBEE834fC2A274D32f5A76   \n",
      "BAYC Count                                            1   \n",
      "Azuki Count                                           1   \n",
      "\n",
      "                                                    458  \\\n",
      "Wallets      0x01de321EbE92e51b1cf0610CfeD109c0877Ff980   \n",
      "BAYC Count                                            1   \n",
      "Azuki Count                                           1   \n",
      "\n",
      "                                                    459  \\\n",
      "Wallets      0xC1741f18E6cc27439439B2bF3f58A341234D4BB6   \n",
      "BAYC Count                                            1   \n",
      "Azuki Count                                           1   \n",
      "\n",
      "                                                    460       461  \\\n",
      "Wallets      0x8562Fe5154beD2d70F69D90fEC48BA0B9b45F404  dhes.eth   \n",
      "BAYC Count                                            1         1   \n",
      "Azuki Count                                           1         1   \n",
      "\n",
      "                                                    462  \n",
      "Wallets      0x8E57BF9684EF2c36fD01E8C67E34e94596bFb42b  \n",
      "BAYC Count                                            1  \n",
      "Azuki Count                                           1  \n",
      "\n",
      "[3 rows x 463 columns]\n"
     ]
    }
   ],
   "source": [
    "dfx = pd.DataFrame(\n",
    "    holders, index=['Wallets', 'BAYC Count', 'Azuki Count'])\n",
    "\n",
    "print(dfx)"
   ]
  },
  {
   "cell_type": "code",
   "execution_count": 18,
   "id": "885ea03c",
   "metadata": {},
   "outputs": [
    {
     "name": "stdout",
     "output_type": "stream",
     "text": [
      "                                        Wallets BAYC Count Azuki Count\n",
      "0                                 dingaling.eth        105          53\n",
      "1                                 beanwhale.eth         10         181\n",
      "2    0xf896527c49b44aAb3Cf22aE356Fa3AF8E331F280         56          27\n",
      "3                               canaryvault.eth         71           9\n",
      "4    0xDe112B77A1a72c726D8C914c23dCEaA53273c351         16          22\n",
      "..                                          ...        ...         ...\n",
      "458  0x01de321EbE92e51b1cf0610CfeD109c0877Ff980          1           1\n",
      "459  0xC1741f18E6cc27439439B2bF3f58A341234D4BB6          1           1\n",
      "460  0x8562Fe5154beD2d70F69D90fEC48BA0B9b45F404          1           1\n",
      "461                                    dhes.eth          1           1\n",
      "462  0x8E57BF9684EF2c36fD01E8C67E34e94596bFb42b          1           1\n",
      "\n",
      "[463 rows x 3 columns]\n"
     ]
    }
   ],
   "source": [
    "dfx = dfx.T\n",
    "\n",
    "print(dfx)"
   ]
  },
  {
   "cell_type": "code",
   "execution_count": 50,
   "id": "b9af2a40",
   "metadata": {},
   "outputs": [],
   "source": [
    "#dfx.to_csv(r'C:/Users/miked/OneDrive/Desktop/scraper/boredAzukii.csv', index=False)"
   ]
  },
  {
   "cell_type": "code",
   "execution_count": null,
   "id": "0861d351",
   "metadata": {},
   "outputs": [],
   "source": []
  }
 ],
 "metadata": {
  "kernelspec": {
   "display_name": "Python 3 (ipykernel)",
   "language": "python",
   "name": "python3"
  },
  "language_info": {
   "codemirror_mode": {
    "name": "ipython",
    "version": 3
   },
   "file_extension": ".py",
   "mimetype": "text/x-python",
   "name": "python",
   "nbconvert_exporter": "python",
   "pygments_lexer": "ipython3",
   "version": "3.8.12"
  }
 },
 "nbformat": 4,
 "nbformat_minor": 5
}
